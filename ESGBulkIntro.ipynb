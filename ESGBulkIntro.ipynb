{
 "cells": [
  {
   "cell_type": "markdown",
   "metadata": {},
   "source": [
    "# Introduction to ESG Bulk - Python"
   ]
  },
  {
   "cell_type": "markdown",
   "metadata": {},
   "source": [
    "ESG stands for Environmental, Social and (Corporate) Governance data.\n",
    "\n",
    "Refinitiv Data Platform (RDP) provides simple web based API access to a broad range of content, including ESG content and ESG content in bulk.\n",
    "\n",
    "With growing popularity of socially conscious investing, Refinitiv offers one of the most comprehensive Environmental, Social and Governance (ESG) databases in the industry, covering over 80% of global market cap, across more than 450 different ESG metrics, with history going back to 2002. Customers looking to download our ESG content can do so through our bulk API service in Refinitiv Data Platform (RDP). RDP is a cloud based API that provides a single access point to all Refinitiv content.\n",
    "\n",
    "ESG data is the first content made available in our bulk API service known as Client File Store (CFS). This capability allows our customers to download our entire history of ESG coverage. To more about how the ESG Bulk Service works in Refinitiv Data Platform, please visit:\n",
    "\n",
    "https://developers.refinitiv.com/refinitiv-data-platform/refinitiv-data-platform-apis/docs\n",
    "\n",
    "Within RDP family of service, ESG Bulk is part of Client File Store (CFS) - based section of service, find out more at:\n",
    "\n",
    "https://developers.refinitiv.com/en/api-catalog/refinitiv-data-platform/refinitiv-data-platform-apis\n",
    "\n",
    "Let us now focus on the programmatic interaction with ESG Bulk RDP service."
   ]
  },
  {
   "cell_type": "code",
   "execution_count": null,
   "metadata": {
    "jupyter": {
     "outputs_hidden": true
    }
   },
   "outputs": [],
   "source": [
    "import requests, json, time, getopt, sys\n",
    "import pandas as pd"
   ]
  },
  {
   "cell_type": "markdown",
   "metadata": {},
   "source": [
    "### Set Valid Credentials \n",
    "\n",
    "Valid RDP credentials are required to proceed:\n",
    "* USERNAME\n",
    "* PASSWORD\n",
    "* CLIENTID\n",
    "\n",
    "To read one's valid credentials from a file (that can be shared by many code examples), leave below code as is.\n",
    "\n",
    "To provide credentials in place:\n",
    "* replace the commented credentials with one's valid assigned credentials\n",
    "* comment the read from file step readCredsFromFile"
   ]
  },
  {
   "cell_type": "code",
   "execution_count": null,
   "metadata": {
    "jupyter": {
     "outputs_hidden": true
    }
   },
   "outputs": [],
   "source": [
    "USERNAME = \"VALIDUSER\"\n",
    "PASSWORD = \"VALIDPASSWORD\"\n",
    "CLIENT_ID = \"SELFGENERATEDCLIENTID\"\n",
    "\n",
    "def readCredsFromFile(filePathName):\n",
    "### Read valid credentials from file\n",
    "    global USERNAME, PASSWORD, CLIENT_ID\n",
    "    credFile = open(filePathName,\"r\")    # one per line\n",
    "                                                #--- RDP MACHINE ID---\n",
    "                                                #--- LONG PASSWORD---\n",
    "                                                #--- GENERATED CLIENT ID---\n",
    "\n",
    "    USERNAME = credFile.readline().rstrip('\\n')\n",
    "    PASSWORD = credFile.readline().rstrip('\\n')\n",
    "    CLIENT_ID = credFile.readline().rstrip('\\n')\n",
    "\n",
    "    credFile.close()\n",
    "\n",
    "readCredsFromFile(\"..\\creds\\credFileHuman.txt\")\n",
    "\n",
    "# Make sure that creds are read in correctly\n",
    "#print(\"USERNAME=\"+str(USERNAME))\n",
    "#print(\"PASSWORD=\"+str(PASSWORD))\n",
    "#print(\"CLIENT_ID=\"+str(CLIENT_ID))"
   ]
  },
  {
   "cell_type": "markdown",
   "metadata": {},
   "source": [
    "### Set Application Constants"
   ]
  },
  {
   "cell_type": "code",
   "execution_count": null,
   "metadata": {
    "jupyter": {
     "outputs_hidden": true
    }
   },
   "outputs": [],
   "source": [
    "# Set Application Constants\n",
    "RDP_AUTH_VERSION = \"/v1\"\n",
    "RDP_ESG_BULK_VERSION = \"/v1\"\n",
    "RDP_BASE_URL = \"https://api.refinitiv.com\"\n",
    "RDP_ESG_BUCKET = \"ESG\"\n",
    "CATEGORY_URL = \"/auth/oauth2\"\n",
    "ENDPOINT_URL = \"/token\"\n",
    "CLIENT_SECRET = \"\"\n",
    "TOKEN_FILE = \"token.txt\"\n",
    "SCOPE = \"trapi\""
   ]
  },
  {
   "cell_type": "markdown",
   "metadata": {},
   "source": [
    "### Define Token Handling and Obtain a Valid Token\n",
    "\n",
    "Having a valid token is a pre-requisite to requesting of any RDP content, and will be passed into the next steps."
   ]
  },
  {
   "cell_type": "code",
   "execution_count": null,
   "metadata": {
    "jupyter": {
     "outputs_hidden": true
    }
   },
   "outputs": [],
   "source": [
    "TOKEN_ENDPOINT = RDP_BASE_URL + CATEGORY_URL + RDP_AUTH_VERSION + ENDPOINT_URL\n",
    "\n",
    "def _requestNewToken(refreshToken):\n",
    "    if refreshToken is None:\n",
    "        tData = {\n",
    "            \"username\": USERNAME,\n",
    "            \"password\": PASSWORD,\n",
    "            \"grant_type\": \"password\",\n",
    "            \"scope\": SCOPE,\n",
    "            \"takeExclusiveSignOnControl\": \"true\"\n",
    "        };\n",
    "    else:\n",
    "        tData = {\n",
    "            \"refresh_token\": refreshToken,\n",
    "            \"grant_type\": \"refresh_token\",\n",
    "        };\n",
    "\n",
    "    # Make a REST call to get latest access token\n",
    "    response = requests.post(\n",
    "        TOKEN_ENDPOINT,\n",
    "        headers = {\n",
    "            \"Accept\": \"application/json\"\n",
    "        },\n",
    "        data = tData,\n",
    "        auth = (\n",
    "            CLIENT_ID,\n",
    "            CLIENT_SECRET\n",
    "        )\n",
    "    )\n",
    "    \n",
    "    if response.status_code != 200:\n",
    "        raise Exception(\"Failed to get access token {0} - {1}\".format(response.status_code, response.text));\n",
    "\n",
    "    # Return the new token\n",
    "    return json.loads(response.text);\n",
    "\n",
    "def saveToken(tknObject):\n",
    "    tf = open(TOKEN_FILE, \"w+\");\n",
    "    print(\"Saving the new token\");\n",
    "    # Append the expiry time to token\n",
    "    tknObject[\"expiry_tm\"] = time.time() + int(tknObject[\"expires_in\"]) - 10;\n",
    "    # Store it in the file\n",
    "    json.dump(tknObject, tf, indent=4)\n",
    "    \n",
    "def getToken():\n",
    "    try:\n",
    "        print(\"Reading the token from: \" + TOKEN_FILE);\n",
    "        # Read the token from a file\n",
    "        tf = open(TOKEN_FILE, \"r+\")\n",
    "        tknObject = json.load(tf);\n",
    "\n",
    "        # Is access token valid\n",
    "        if tknObject[\"expiry_tm\"] > time.time():\n",
    "            # return access token\n",
    "            return tknObject[\"access_token\"];\n",
    "\n",
    "        print(\"Token expired, refreshing a new one...\");\n",
    "        tf.close();\n",
    "        # Get a new token from refresh token\n",
    "        tknObject = _requestNewToken(tknObject[\"refresh_token\"]);\n",
    "\n",
    "    except Exception as exp:\n",
    "        print(\"Caught exception: \" + str(exp))\n",
    "        print(\"Getting a new token using Password Grant...\");\n",
    "        tknObject = _requestNewToken(None);\n",
    "\n",
    "    # Persist this token for future queries\n",
    "    saveToken(tknObject)\n",
    "    print(\"Token is: \" + tknObject[\"access_token\"])\n",
    "    # Return access token\n",
    "    return tknObject[\"access_token\"];\n",
    "\n",
    "accessToken = getToken();\n",
    "print(\"Have token now\");"
   ]
  },
  {
   "cell_type": "markdown",
   "metadata": {},
   "source": [
    "## Request Available File Sets\n",
    "\n",
    "The purpose of ESG bulk service is obtaining ESG content in bulk.  The content is available as:\n",
    "\n",
    "•\tA full JSON data file containing history for all measures and all organizations.\n",
    "•\tA delta JSON data file that contains only incremental changes to the universe since last week. \n",
    "\n",
    "A customer can examine the available File Sets and is expected to:\n",
    "\n",
    "•\tBuild the initial ESG representation with the full files\n",
    "•\tApply delta, changes, as they become available\n",
    "•\tFill a gap if the retrival was not completed and the content missed remains available\n",
    "\n",
    "This step serves to verify the type of the file, for example:\n",
    "•\tESGRawFullScheme\n",
    "•\tESGScoresFull\n",
    "•\tESGScoresWealthFull"
   ]
  },
  {
   "cell_type": "code",
   "execution_count": null,
   "metadata": {
    "jupyter": {
     "outputs_hidden": true
    }
   },
   "outputs": [],
   "source": [
    "FILESET_ENDPOINT = RDP_BASE_URL+'/file-store'+RDP_ESG_BULK_VERSION + '/file-sets?bucket='+ RDP_ESG_BUCKET\n",
    "FILESET_ID = ''\n",
    "PACKAGE_ID = ''\n",
    "WHICH_FILESET_ID_TO_STORE = 1   # 10 are returned per page\n",
    "WHICH_PACKAGE_ID_TO_STORE = 2   \n",
    "\n",
    "def requestFileSets(token, withNext, skipToken, attributes):   \n",
    "    global FILESET_ENDPOINT\n",
    "    global FILESET_ID\n",
    "    global PACKAGE_ID\n",
    "    global WHICH_FILESET_ID_TO_STORE   \n",
    "    \n",
    "    print(\"Obtaining FileSets in ESG Bucket...\")\n",
    "  \n",
    "    FILESET_ENDPOINT = RDP_BASE_URL+'/file-store'+RDP_ESG_BULK_VERSION + '/file-sets?bucket='+ RDP_ESG_BUCKET\n",
    "    \n",
    "    querystring = {}\n",
    "    payload = \"\"\n",
    "    jsonfull = \"\"\n",
    "    jsonpartial = \"\"\n",
    "    \n",
    "    headers = {\n",
    "            'Content-Type': \"application/json\",\n",
    "            'Authorization': \"Bearer \" + token,\n",
    "            'cache-control': \"no-cache\"\n",
    "    }\n",
    "\n",
    "    if attributes:\n",
    "        FILESET_ENDPOINT = FILESET_ENDPOINT + attributes\n",
    "    if withNext:\n",
    "        FILESET_ENDPOINT = FILESET_ENDPOINT + '&skipToken=' +skipToken\n",
    "        \n",
    "    response = requests.request(\"GET\", FILESET_ENDPOINT, data=payload, headers=headers, params=querystring)\n",
    "    \n",
    "    if response.status_code != 200:\n",
    "        if response.status_code == 401:   # error when token expired\n",
    "                accessToken = getToken();     # token refresh on token expired\n",
    "                headers['Authorization'] = \"Bearer \" + accessToken\n",
    "                response = requests.request(\"GET\", FILESET_ENDPOINT, data=payload, headers=headers, params=querystring)\n",
    "         \n",
    "    print('Raw response=');\n",
    "    print(response);\n",
    "    \n",
    "    if response.status_code == 200:\n",
    "        jsonFullResp = json.loads(response.text)\n",
    "        print('Parsed json response=');\n",
    "        print(json.dumps(jsonFullResp, indent=2));\n",
    "        # We are going to store FileSet ID of the second File Set retrieved for future reference\n",
    "        FILESET_ID = jsonFullResp['value'][WHICH_FILESET_ID_TO_STORE]['id']\n",
    "        print('FILESET_ID stored is: '+str(FILESET_ID))\n",
    "        PACKAGE_ID = jsonFullResp['value'][WHICH_PACKAGE_ID_TO_STORE]['packageId']\n",
    "        print('PACKAGE_ID stored is: '+str(PACKAGE_ID))\n",
    "        return jsonFullResp; \n",
    "    else:\n",
    "        return '';\n",
    "\n",
    "jsonFullResp = requestFileSets(accessToken, False, '','');"
   ]
  },
  {
   "cell_type": "markdown",
   "metadata": {},
   "source": [
    "### Present Raw Results in Tabular View"
   ]
  },
  {
   "cell_type": "code",
   "execution_count": null,
   "metadata": {
    "jupyter": {
     "outputs_hidden": true
    }
   },
   "outputs": [],
   "source": [
    "import pandas as pd\n",
    "df = pd.json_normalize(jsonFullResp['value'])\n",
    "df"
   ]
  },
  {
   "cell_type": "markdown",
   "metadata": {},
   "source": [
    "### Paginate Through the Available FileSets\n",
    "(interrupt at any point)"
   ]
  },
  {
   "cell_type": "code",
   "execution_count": null,
   "metadata": {
    "jupyter": {
     "outputs_hidden": true
    }
   },
   "outputs": [],
   "source": [
    "i = 1\n",
    "while \"@nextLink\" in jsonFullResp: \n",
    "    print('<<< Iteraction: '+str(i)+' >>>  More exists: '+ jsonFullResp['@nextLink'] + ', skipToken is: ' + jsonFullResp['@nextLink'][-62:]+'\\n')\n",
    "    jsonFullResp = requestFileSets(accessToken, True, jsonFullResp['@nextLink'][-62:],'');\n",
    "    i+=1;\n",
    "print('Last response without next=');\n",
    "print(jsonFullResp);"
   ]
  },
  {
   "cell_type": "markdown",
   "metadata": {},
   "source": [
    "### Retrieve FileSets of Specific File Type (Filter By Attribute and By PackageId)\n",
    "The file types may change over time, at the time of this writing, the available FileSets are of types:\n",
    "\n",
    "* ESG Raw Full A\n",
    "* ESG Raw Full B\n",
    "* ESG Raw Current A\n",
    "* ESG Raw Current B\n",
    "* ESG Sources\n",
    "* ESG Raw Wealth Standard\n",
    "\n",
    "* Symbology Cusip\n",
    "* Symbology SEDOL\n",
    "* Symbology Organization\n",
    "* Symbology Instrument Quote\n",
    "\n",
    "Further, the selected package, if also filtering by packageId has to contain the files per filtering arrtibutes, in order to request their listing succefully,\n",
    "otherwise the result will be empty.\n"
   ]
  },
  {
   "cell_type": "code",
   "execution_count": null,
   "metadata": {
    "jupyter": {
     "outputs_hidden": true
    }
   },
   "outputs": [],
   "source": [
    "requestFileSets(accessToken, False, '','&attributes=ContentType:Symbology Cusip');"
   ]
  },
  {
   "cell_type": "code",
   "execution_count": null,
   "metadata": {
    "jupyter": {
     "outputs_hidden": true
    }
   },
   "outputs": [],
   "source": [
    "requestFileSets(accessToken, False, '','&packageId='+PACKAGE_ID+'&attributes=ContentType:ESG Sources');"
   ]
  },
  {
   "cell_type": "markdown",
   "metadata": {},
   "source": [
    "### Retrieve Complete File Details of FileSet ID\n",
    "\n",
    "In a previous step we have stored a FileSet ID that we are about to use for the demonstartion of this feature."
   ]
  },
  {
   "cell_type": "code",
   "execution_count": null,
   "metadata": {
    "jupyter": {
     "outputs_hidden": true
    }
   },
   "outputs": [],
   "source": [
    "FILES_ENDPOINT = RDP_BASE_URL+'/file-store'+RDP_ESG_BULK_VERSION + '/files?filesetId='+ FILESET_ID\n",
    "WHICH_FILE_ID_TO_STORE = 0\n",
    "FILE_ID = ''\n",
    "FILE_NAME = ''\n",
    " \n",
    "def requestFileDetails(token):   \n",
    "    global FILES_ENDPOINT\n",
    "    global FILE_ID\n",
    "    global FILE_NAME\n",
    "    print(\"Obtaining File details...\" )\n",
    "  \n",
    "    querystring = {}\n",
    "    payload = \"\"\n",
    "    jsonfull = \"\"\n",
    "    jsonpartial = \"\"\n",
    "    \n",
    "    headers = {\n",
    "            'Content-Type': \"application/json\",\n",
    "            'Authorization': \"Bearer \" + token,\n",
    "            'cache-control': \"no-cache\"\n",
    "    }\n",
    "        \n",
    "    response = requests.request(\"GET\", FILES_ENDPOINT, data=payload, headers=headers, params=querystring)\n",
    "    \n",
    "    if response.status_code != 200:\n",
    "        if response.status_code == 401:   # error when token expired\n",
    "                accessToken = getToken();     # token refresh on token expired\n",
    "                headers['Authorization'] = \"Bearer \" + accessToken\n",
    "                response = requests.request(\"GET\", FILES_ENDPOINT, data=payload, headers=headers, params=querystring)\n",
    "         \n",
    "    print('Raw response=');\n",
    "    print(response);\n",
    "    \n",
    "    if response.status_code == 200:\n",
    "        jsonFullResp = json.loads(response.text)\n",
    "        print('Parsed json response=');\n",
    "        print(json.dumps(jsonFullResp, indent=2));\n",
    "        FILE_ID = jsonFullResp['value'][WHICH_FILE_ID_TO_STORE]['id']\n",
    "        print('FILE_ID stored is: '+str(FILE_ID))\n",
    "        FILE_NAME = jsonFullResp['value'][WHICH_FILE_ID_TO_STORE]['filename']\n",
    "        print('FILE_NAME stored is: '+str(FILE_NAME))\n",
    "        return jsonFullResp; \n",
    "    else:\n",
    "        return '';\n",
    "\n",
    "jsonFullResp = requestFileDetails(accessToken);"
   ]
  },
  {
   "cell_type": "markdown",
   "metadata": {},
   "source": [
    "###  Stream File via File Id using Redirect"
   ]
  },
  {
   "cell_type": "code",
   "execution_count": null,
   "metadata": {
    "jupyter": {
     "outputs_hidden": true
    }
   },
   "outputs": [],
   "source": [
    "import shutil\n",
    "\n",
    "FILES_STREAM_ENDPOINT = RDP_BASE_URL+'/file-store'+RDP_ESG_BULK_VERSION + '/files/'+ FILE_ID+ '/stream'\n",
    " \n",
    "def requestFileDownload(token):   \n",
    "    global FILES_STREAM_ENDPOINT\n",
    "    print(\"Obtaining File ... \" + FILES_STREAM_ENDPOINT)\n",
    "  \n",
    "    filename = FILE_NAME\n",
    "    chunk_size = 1000\n",
    "    \n",
    "    headers = {\n",
    "            'Authorization': 'Bearer ' + token,\n",
    "            'cache-control': \"no-cache\",\n",
    "            'Accept': '*/*'\n",
    "    }\n",
    "        \n",
    "    response = requests.request(\"GET\", FILES_STREAM_ENDPOINT, headers=headers, stream=True, allow_redirects=True)\n",
    "    \n",
    "    if response.status_code != 200:\n",
    "        if response.status_code == 401:   # error when token expired\n",
    "                accessToken = getToken();     # token refresh on token expired\n",
    "                headers['Authorization'] = \"Bearer \" + accessToken\n",
    "                response = requests.request(\"GET\",FILES_STREAM_ENDPOINT, headers=headers, stream=True, allow_redirects=True)\n",
    "\n",
    "         \n",
    "    print('Response code=' + str(response.status_code));\n",
    "    \n",
    "    if response.status_code == 200:\n",
    "        print('Processing...')\n",
    "        with open(filename, 'wb') as fd:\n",
    "            shutil.copyfileobj(response.raw, fd) \n",
    "        print('Look for gzipped file named: '+ filename + ' in current directory')\n",
    "        response.connection.close()\n",
    "        \n",
    "    return; \n",
    "\n",
    "\n",
    "requestFileDownload(accessToken);"
   ]
  },
  {
   "cell_type": "markdown",
   "metadata": {},
   "source": [
    "### Get File Location (Step 1 of 2)"
   ]
  },
  {
   "cell_type": "code",
   "execution_count": null,
   "metadata": {
    "jupyter": {
     "outputs_hidden": true
    }
   },
   "outputs": [],
   "source": [
    "import shutil\n",
    "\n",
    "FILES_STREAM_ENDPOINT = RDP_BASE_URL+'/file-store'+RDP_ESG_BULK_VERSION + '/files/'+ FILE_ID+ '/stream?doNotRedirect=true'\n",
    "DIRECT_URL = ''\n",
    " \n",
    "def requestFileLocation(token):   \n",
    "    \n",
    "    global FILES_STREAM_ENDPOINT\n",
    "    global DIRECT_URL\n",
    "    \n",
    "    print(\"Obtaining File ... \" + FILES_STREAM_ENDPOINT)\n",
    "  \n",
    "    filename = FILE_NAME\n",
    "    chunk_size = 1000\n",
    "    \n",
    "    headers = {\n",
    "            'Authorization': 'Bearer ' + token,\n",
    "            'cache-control': \"no-cache\",\n",
    "            'Accept': '*/*'\n",
    "    }\n",
    "        \n",
    "    response = requests.request(\"GET\", FILES_STREAM_ENDPOINT, headers=headers, stream=False, allow_redirects=False)\n",
    "    \n",
    "    if response.status_code != 200:\n",
    "        if response.status_code == 401:   # error when token expired\n",
    "                accessToken = getToken();     # token refresh on token expired\n",
    "                headers['Authorization'] = \"Bearer \" + accessToken\n",
    "                response = requests.request(\"GET\",FILES_STREAM_ENDPOINT, headers=headers, stream=False, allow_redirects=False)\n",
    "\n",
    "         \n",
    "    print('Response code=' + str(response.status_code));\n",
    "    \n",
    "    if response.status_code == 200:\n",
    "        jsonFullResp = json.loads(response.text)\n",
    "        print('Parsed json response=');\n",
    "        print(json.dumps(jsonFullResp, indent=2));\n",
    "        DIRECT_URL = jsonFullResp['url'];\n",
    "        print('File Direct URL is: '  +str(DIRECT_URL)+ '|||');\n",
    "        \n",
    "    return; \n",
    "\n",
    "\n",
    "requestFileLocation(accessToken);"
   ]
  },
  {
   "cell_type": "markdown",
   "metadata": {},
   "source": [
    "### Download File From File Location (Step 2 of 2)"
   ]
  },
  {
   "cell_type": "code",
   "execution_count": null,
   "metadata": {
    "jupyter": {
     "outputs_hidden": true
    }
   },
   "outputs": [],
   "source": [
    "from urllib.parse import urlparse, parse_qs\n",
    "def requestDirectFileDownload(token):   \n",
    "    \n",
    "    global DIRECT_URL\n",
    "    print(\"Obtaining File from URL... \" + DIRECT_URL)\n",
    "    \n",
    "    #Parse out URL parameters for submission into requests\n",
    "    url_obj = urlparse(DIRECT_URL)\n",
    "    parsed_params = parse_qs(url_obj.query)\n",
    "    # extract the URL without query parameters\n",
    "    parsed_url = url_obj._replace(query=None).geturl()\n",
    "\n",
    "    response = requests.get(parsed_url, params=parsed_params,stream=True)\n",
    "        \n",
    "    if response.status_code != 200:\n",
    "        if response.status_code == 401:   # error when token expired\n",
    "                accessToken = getToken();     # token refresh on token expired\n",
    "                headers['Authorization'] = \"Bearer \" + accessToken\n",
    "                response = requests.get(parsed_url, params=query)\n",
    "\n",
    "         \n",
    "    print('Response code=' + str(response.status_code));        \n",
    "  \n",
    "    filename = 'another_'+FILE_NAME    \n",
    "    \n",
    "    if response.status_code == 200:\n",
    "        print('Processing...')\n",
    "        with open(filename, 'wb') as fd:\n",
    "            shutil.copyfileobj(response.raw, fd) \n",
    "\n",
    "        print('Look for gzipped file named: '+ filename + ' in current directory')\n",
    "        response.connection.close()\n",
    "        \n",
    "    return; \n",
    "\n",
    "\n",
    "requestDirectFileDownload(accessToken);"
   ]
  },
  {
   "cell_type": "code",
   "execution_count": null,
   "metadata": {
    "jupyter": {
     "outputs_hidden": true
    }
   },
   "outputs": [],
   "source": []
  }
 ],
 "metadata": {
  "kernelspec": {
   "display_name": "Python 3",
   "language": "python",
   "name": "python3"
  },
  "language_info": {
   "codemirror_mode": {
    "name": "ipython",
    "version": 3
   },
   "file_extension": ".py",
   "mimetype": "text/x-python",
   "name": "python",
   "nbconvert_exporter": "python",
   "pygments_lexer": "ipython3",
   "version": "3.8.5"
  }
 },
 "nbformat": 4,
 "nbformat_minor": 4
}
